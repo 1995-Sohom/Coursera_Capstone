{
 "cells": [
  {
   "cell_type": "markdown",
   "metadata": {},
   "source": [
    "## CAPSTONE PROJECT - The Battle of Neighborhoods"
   ]
  },
  {
   "cell_type": "markdown",
   "metadata": {},
   "source": [
    "## ANALYSIS OF SCHOOLS IN BANGALORE"
   ]
  },
  {
   "cell_type": "markdown",
   "metadata": {},
   "source": [
    "## DATA SECTION"
   ]
  },
  {
   "cell_type": "markdown",
   "metadata": {},
   "source": [
    "* I have used beautiful soup to scrape the various neighbourhoods in Bangalore from the given link.\n",
    "  Link: \"https://en.wikipedia.org/wiki/Category:Neighbourhoods_in_Bangalore\"\n",
    "\n",
    "* Then I have obtained the Latitudes and Longitudes of these neighbourhoods using geocoder.\n",
    "\n",
    "* I have then used FourSquare API to obtain the location of various schools in each neighbourhood setting the limit to 100 for   each neighbourhood and a radius of 1km."
   ]
  },
  {
   "cell_type": "code",
   "execution_count": null,
   "metadata": {},
   "outputs": [],
   "source": []
  }
 ],
 "metadata": {
  "kernelspec": {
   "display_name": "Python 3",
   "language": "python",
   "name": "python3"
  },
  "language_info": {
   "codemirror_mode": {
    "name": "ipython",
    "version": 3
   },
   "file_extension": ".py",
   "mimetype": "text/x-python",
   "name": "python",
   "nbconvert_exporter": "python",
   "pygments_lexer": "ipython3",
   "version": "3.7.6"
  }
 },
 "nbformat": 4,
 "nbformat_minor": 4
}
