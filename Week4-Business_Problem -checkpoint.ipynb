{
 "cells": [
  {
   "cell_type": "markdown",
   "metadata": {},
   "source": [
    "## CAPSTONE PROJECT - The Battle of Neighborhoods"
   ]
  },
  {
   "cell_type": "markdown",
   "metadata": {},
   "source": [
    "## ANALYSIS OF SCHOOLS IN BANGALORE"
   ]
  },
  {
   "cell_type": "markdown",
   "metadata": {},
   "source": [
    "## BUSINESS PROBLEM "
   ]
  },
  {
   "cell_type": "markdown",
   "metadata": {},
   "source": [
    "## INTRODUCTION"
   ]
  },
  {
   "cell_type": "markdown",
   "metadata": {},
   "source": [
    "In this project I have tried to analyze the distribution of schools in the city of Bangalore. This will help us in identifying the areas where the school infrastructure needs to be developed.\n",
    "In order to obtain the distribution of schools in Bangalore I have used FourSquare API."
   ]
  },
  {
   "cell_type": "markdown",
   "metadata": {},
   "source": [
    "## BACKGROUND"
   ]
  },
  {
   "cell_type": "markdown",
   "metadata": {},
   "source": [
    "It is essential for every child to have quality education. Bangalore is one the IT-hub of India, which means more and more people are migrating to Bangalore to have a better job opportunity.An influx in migration will also lead the people to search for a neighbourhood which have good schooling access.\n",
    "\n",
    "Thus, this project tries to answer to fold-problems.First, we would like to look at how schools are clustered in the neighbourhood of Bangalore.If there is some regions, which lacks infrastructure in terms of schools.Then, it is important to identify these regions for the development of the city and to provide easy access to education for everyone.This is the long term aspect of the project.\n",
    "\n",
    "While, in the short run we would like to know if a family is migrating to Bangalore, what will be a potential region to reallocate so that they can access good schooling-infrastructure."
   ]
  },
  {
   "cell_type": "markdown",
   "metadata": {},
   "source": [
    "## Target Audience"
   ]
  },
  {
   "cell_type": "markdown",
   "metadata": {},
   "source": [
    "Here, the target audience will be the government organizitaion and the private sector agencies looking to build school\n",
    "infrastructure in areas with good potential and the people looking for houses in different neighbourhoods to identify which ones will be closer to good schools.It also tries to target the bulk of influx of migrants to settle in those neighbourhood which have schools near to them."
   ]
  },
  {
   "cell_type": "code",
   "execution_count": null,
   "metadata": {},
   "outputs": [],
   "source": []
  }
 ],
 "metadata": {
  "kernelspec": {
   "display_name": "Python 3",
   "language": "python",
   "name": "python3"
  },
  "language_info": {
   "codemirror_mode": {
    "name": "ipython",
    "version": 3
   },
   "file_extension": ".py",
   "mimetype": "text/x-python",
   "name": "python",
   "nbconvert_exporter": "python",
   "pygments_lexer": "ipython3",
   "version": "3.7.6"
  }
 },
 "nbformat": 4,
 "nbformat_minor": 4
}
